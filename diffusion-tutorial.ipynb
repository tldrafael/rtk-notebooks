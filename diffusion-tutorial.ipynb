{
 "cells": [
  {
   "cell_type": "code",
   "execution_count": 1,
   "id": "c3e16a0a-95e5-4ab6-822b-0fdffa29a96d",
   "metadata": {},
   "outputs": [
    {
     "ename": "NameError",
     "evalue": "name 'get_default_device' is not defined",
     "output_type": "error",
     "traceback": [
      "\u001b[0;31m---------------------------------------------------------------------------\u001b[0m",
      "\u001b[0;31mNameError\u001b[0m                                 Traceback (most recent call last)",
      "Cell \u001b[0;32mIn[1], line 5\u001b[0m\n\u001b[1;32m      1\u001b[0m \u001b[38;5;28;01mfrom\u001b[39;00m \u001b[38;5;21;01mdataclasses\u001b[39;00m \u001b[38;5;28;01mimport\u001b[39;00m dataclass\n\u001b[1;32m      4\u001b[0m \u001b[38;5;129m@dataclass\u001b[39m\n\u001b[0;32m----> 5\u001b[0m \u001b[38;5;28;01mclass\u001b[39;00m \u001b[38;5;21;01mBaseConfig\u001b[39;00m:\n\u001b[1;32m      6\u001b[0m     DEVICE \u001b[38;5;241m=\u001b[39m get_default_device()\n\u001b[1;32m      7\u001b[0m     DATASET \u001b[38;5;241m=\u001b[39m \u001b[38;5;124m\"\u001b[39m\u001b[38;5;124mFlowers\u001b[39m\u001b[38;5;124m\"\u001b[39m  \u001b[38;5;66;03m#  \"MNIST\", \"Cifar-10\", \"Flowers\"\u001b[39;00m\n",
      "Cell \u001b[0;32mIn[1], line 6\u001b[0m, in \u001b[0;36mBaseConfig\u001b[0;34m()\u001b[0m\n\u001b[1;32m      4\u001b[0m \u001b[38;5;129m@dataclass\u001b[39m\n\u001b[1;32m      5\u001b[0m \u001b[38;5;28;01mclass\u001b[39;00m \u001b[38;5;21;01mBaseConfig\u001b[39;00m:\n\u001b[0;32m----> 6\u001b[0m     DEVICE \u001b[38;5;241m=\u001b[39m \u001b[43mget_default_device\u001b[49m()\n\u001b[1;32m      7\u001b[0m     DATASET \u001b[38;5;241m=\u001b[39m \u001b[38;5;124m\"\u001b[39m\u001b[38;5;124mFlowers\u001b[39m\u001b[38;5;124m\"\u001b[39m  \u001b[38;5;66;03m#  \"MNIST\", \"Cifar-10\", \"Flowers\"\u001b[39;00m\n\u001b[1;32m      9\u001b[0m     \u001b[38;5;66;03m# For logging inferece images and saving checkpoints.\u001b[39;00m\n",
      "\u001b[0;31mNameError\u001b[0m: name 'get_default_device' is not defined"
     ]
    }
   ],
   "source": [
    "from dataclasses import dataclass\n",
    "\n",
    "\n",
    "@dataclass\n",
    "class BaseConfig:\n",
    "    DEVICE = get_default_device()\n",
    "    DATASET = \"Flowers\"  #  \"MNIST\", \"Cifar-10\", \"Flowers\"\n",
    " \n",
    "    # For logging inferece images and saving checkpoints.\n",
    "    root_log_dir = os.path.join(\"Logs_Checkpoints\", \"Inference\")\n",
    "    root_checkpoint_dir = os.path.join(\"Logs_Checkpoints\", \"checkpoints\")\n",
    " \n",
    "    # Current log and checkpoint directory.\n",
    "    log_dir = \"version_0\"\n",
    "    checkpoint_dir = \"version_0\"\n",
    " \n",
    " \n",
    "@dataclass\n",
    "class TrainingConfig:\n",
    "    TIMESTEPS = 1000  # Define number of diffusion timesteps\n",
    "    IMG_SHAPE = (1, 32, 32) if BaseConfig.DATASET == \"MNIST\" else (3, 32, 32)\n",
    "    NUM_EPOCHS = 800\n",
    "    BATCH_SIZE = 32\n",
    "    LR = 2e-4\n",
    "    NUM_WORKERS = 2"
   ]
  },
  {
   "cell_type": "code",
   "execution_count": 2,
   "id": "736ab2d2-c544-4970-bf16-c78164b8760b",
   "metadata": {},
   "outputs": [],
   "source": [
    "import torchvision\n",
    "import torchvision.transforms as TF\n",
    "import torchvision.datasets as datasets\n",
    "from torch.utils.data import Dataset, DataLoader\n",
    " \n",
    " \n",
    "def get_dataset(dataset_name='MNIST'):\n",
    "    transforms = torchvision.transforms.Compose(\n",
    "        [\n",
    "            torchvision.transforms.ToTensor(),\n",
    "            torchvision.transforms.Resize((32, 32), \n",
    "                                          interpolation=torchvision.transforms.InterpolationMode.BICUBIC, \n",
    "                                          antialias=True),\n",
    "            torchvision.transforms.RandomHorizontalFlip(),\n",
    "#             torchvision.transforms.Normalize(MEAN, STD),\n",
    "            torchvision.transforms.Lambda(lambda t: (t * 2) - 1) # Scale between [-1, 1] \n",
    "        ]\n",
    "    )\n",
    "     \n",
    "    if dataset_name.upper() == \"MNIST\":\n",
    "        dataset = datasets.MNIST(root=\"data\", train=True, download=True, transform=transforms)\n",
    "    elif dataset_name == \"Cifar-10\":    \n",
    "        dataset = datasets.CIFAR10(root=\"data\", train=True, download=True, transform=transforms)\n",
    "    elif dataset_name == \"Cifar-100\":\n",
    "        dataset = datasets.CIFAR10(root=\"data\", train=True, download=True, transform=transforms)\n",
    "    elif dataset_name == \"Flowers\":\n",
    "        dataset = datasets.ImageFolder(root=\"/kaggle/input/flowers-recognition/flowers\", transform=transforms)\n",
    " \n",
    "    return dataset\n",
    " \n",
    "def inverse_transform(tensors):\n",
    "    \"\"\"Convert tensors from [-1., 1.] to [0., 255.]\"\"\"\n",
    "    return ((tensors.clamp(-1, 1) + 1.0) / 2.0) * 255.0"
   ]
  },
  {
   "cell_type": "code",
   "execution_count": null,
   "id": "b3dc1703-21ac-4439-b5a4-59eed44d20db",
   "metadata": {},
   "outputs": [],
   "source": []
  }
 ],
 "metadata": {
  "kernelspec": {
   "display_name": "Python 3 (ipykernel)",
   "language": "python",
   "name": "python3"
  },
  "language_info": {
   "codemirror_mode": {
    "name": "ipython",
    "version": 3
   },
   "file_extension": ".py",
   "mimetype": "text/x-python",
   "name": "python",
   "nbconvert_exporter": "python",
   "pygments_lexer": "ipython3",
   "version": "3.10.6"
  }
 },
 "nbformat": 4,
 "nbformat_minor": 5
}
